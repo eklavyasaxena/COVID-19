{
 "cells": [
  {
   "cell_type": "code",
   "execution_count": 8,
   "metadata": {},
   "outputs": [],
   "source": [
    "import numpy as np\n",
    "import pandas as pd"
   ]
  },
  {
   "cell_type": "code",
   "execution_count": 9,
   "metadata": {},
   "outputs": [],
   "source": [
    "df_names = ['confirmed_global', 'deaths_global', 'recovered_global'] \n",
    "df_list = [pd.DataFrame() for df in df_names]\n",
    "df_dict = dict(zip(df_names, df_list))"
   ]
  },
  {
   "cell_type": "code",
   "execution_count": 10,
   "metadata": {},
   "outputs": [
    {
     "name": "stdout",
     "output_type": "stream",
     "text": [
      "  Province_State Country_Region      Lat     Long       Date  confirmed_global\n",
      "0            nan    Afghanistan  33.0000  65.0000 2020-01-22                 0\n",
      "1            nan        Albania  41.1533  20.1683 2020-01-22                 0\n",
      "2            nan        Algeria  28.0339   1.6596 2020-01-22                 0\n",
      "3            nan        Andorra  42.5063   1.5218 2020-01-22                 0\n",
      "4            nan         Angola -11.2027  17.8739 2020-01-22                 0\n",
      "confirmed_global cases dataframe created\n",
      "----------------------------------------------------------\n",
      "  Province_State Country_Region      Lat     Long       Date  deaths_global\n",
      "0            nan    Afghanistan  33.0000  65.0000 2020-01-22              0\n",
      "1            nan        Albania  41.1533  20.1683 2020-01-22              0\n",
      "2            nan        Algeria  28.0339   1.6596 2020-01-22              0\n",
      "3            nan        Andorra  42.5063   1.5218 2020-01-22              0\n",
      "4            nan         Angola -11.2027  17.8739 2020-01-22              0\n",
      "deaths_global cases dataframe created\n",
      "----------------------------------------------------------\n",
      "  Province_State Country_Region      Lat     Long       Date  recovered_global\n",
      "0            nan    Afghanistan  33.0000  65.0000 2020-01-22                 0\n",
      "1            nan        Albania  41.1533  20.1683 2020-01-22                 0\n",
      "2            nan        Algeria  28.0339   1.6596 2020-01-22                 0\n",
      "3            nan        Andorra  42.5063   1.5218 2020-01-22                 0\n",
      "4            nan         Angola -11.2027  17.8739 2020-01-22                 0\n",
      "recovered_global cases dataframe created\n",
      "----------------------------------------------------------\n"
     ]
    }
   ],
   "source": [
    "url_part = 'https://raw.githubusercontent.com/CSSEGISandData/COVID-19/master/csse_covid_19_data/csse_covid_19_time_series/time_series_covid19_'\n",
    "\n",
    "for key, value in df_dict.items():\n",
    "    value = pd.read_csv(url_part+key+'.csv', parse_dates=[0])\n",
    "    \n",
    "    value.rename(columns={'Province/State': 'Province_State', 'Country/Region': 'Country_Region'}, inplace=True)\n",
    "    \n",
    "    dim_col = value.columns[0:4]\n",
    "    date_col = value.columns[4:]\n",
    "    value = value.melt(id_vars = dim_col, value_vars = date_col, var_name = 'Date', value_name = key)\n",
    "    \n",
    "    value['Date'] = pd.to_datetime(value['Date'])\n",
    "    \n",
    "    df_dict[key] = value\n",
    "    print(value.head())\n",
    "    print (key+\" cases dataframe created\\n----------------------------------------------------------\")"
   ]
  },
  {
   "cell_type": "code",
   "execution_count": 11,
   "metadata": {
    "scrolled": true
   },
   "outputs": [],
   "source": [
    "join_on_col = ['Province_State','Country_Region','Lat','Long','Date']\n",
    "df_COVID = df_dict['confirmed_global'].merge(df_dict['deaths_global'], on=join_on_col, how='outer') \\\n",
    "                               .merge(df_dict['recovered_global'], on=join_on_col, how='outer')\n",
    "df_COVID.rename(columns = {'confirmed_global':'Confirmed', 'deaths_global':'Deaths', \n",
    "                              'recovered_global':'Recovered'}, inplace = True)"
   ]
  },
  {
   "cell_type": "code",
   "execution_count": 12,
   "metadata": {},
   "outputs": [
    {
     "data": {
      "text/html": [
       "<div>\n",
       "<style scoped>\n",
       "    .dataframe tbody tr th:only-of-type {\n",
       "        vertical-align: middle;\n",
       "    }\n",
       "\n",
       "    .dataframe tbody tr th {\n",
       "        vertical-align: top;\n",
       "    }\n",
       "\n",
       "    .dataframe thead th {\n",
       "        text-align: right;\n",
       "    }\n",
       "</style>\n",
       "<table border=\"1\" class=\"dataframe\">\n",
       "  <thead>\n",
       "    <tr style=\"text-align: right;\">\n",
       "      <th></th>\n",
       "      <th>Province_State</th>\n",
       "      <th>Country_Region</th>\n",
       "      <th>Lat</th>\n",
       "      <th>Long</th>\n",
       "      <th>Date</th>\n",
       "      <th>Confirmed</th>\n",
       "      <th>Deaths</th>\n",
       "      <th>Recovered</th>\n",
       "    </tr>\n",
       "  </thead>\n",
       "  <tbody>\n",
       "    <tr>\n",
       "      <th>0</th>\n",
       "      <td>nan</td>\n",
       "      <td>Afghanistan</td>\n",
       "      <td>33.0000</td>\n",
       "      <td>65.0000</td>\n",
       "      <td>2020-01-22</td>\n",
       "      <td>0.0</td>\n",
       "      <td>0.0</td>\n",
       "      <td>0.0</td>\n",
       "    </tr>\n",
       "    <tr>\n",
       "      <th>1</th>\n",
       "      <td>nan</td>\n",
       "      <td>Albania</td>\n",
       "      <td>41.1533</td>\n",
       "      <td>20.1683</td>\n",
       "      <td>2020-01-22</td>\n",
       "      <td>0.0</td>\n",
       "      <td>0.0</td>\n",
       "      <td>0.0</td>\n",
       "    </tr>\n",
       "    <tr>\n",
       "      <th>2</th>\n",
       "      <td>nan</td>\n",
       "      <td>Algeria</td>\n",
       "      <td>28.0339</td>\n",
       "      <td>1.6596</td>\n",
       "      <td>2020-01-22</td>\n",
       "      <td>0.0</td>\n",
       "      <td>0.0</td>\n",
       "      <td>0.0</td>\n",
       "    </tr>\n",
       "    <tr>\n",
       "      <th>3</th>\n",
       "      <td>nan</td>\n",
       "      <td>Andorra</td>\n",
       "      <td>42.5063</td>\n",
       "      <td>1.5218</td>\n",
       "      <td>2020-01-22</td>\n",
       "      <td>0.0</td>\n",
       "      <td>0.0</td>\n",
       "      <td>0.0</td>\n",
       "    </tr>\n",
       "    <tr>\n",
       "      <th>4</th>\n",
       "      <td>nan</td>\n",
       "      <td>Angola</td>\n",
       "      <td>-11.2027</td>\n",
       "      <td>17.8739</td>\n",
       "      <td>2020-01-22</td>\n",
       "      <td>0.0</td>\n",
       "      <td>0.0</td>\n",
       "      <td>0.0</td>\n",
       "    </tr>\n",
       "  </tbody>\n",
       "</table>\n",
       "</div>"
      ],
      "text/plain": [
       "  Province_State Country_Region      Lat     Long       Date  Confirmed  \\\n",
       "0            nan    Afghanistan  33.0000  65.0000 2020-01-22        0.0   \n",
       "1            nan        Albania  41.1533  20.1683 2020-01-22        0.0   \n",
       "2            nan        Algeria  28.0339   1.6596 2020-01-22        0.0   \n",
       "3            nan        Andorra  42.5063   1.5218 2020-01-22        0.0   \n",
       "4            nan         Angola -11.2027  17.8739 2020-01-22        0.0   \n",
       "\n",
       "   Deaths  Recovered  \n",
       "0     0.0        0.0  \n",
       "1     0.0        0.0  \n",
       "2     0.0        0.0  \n",
       "3     0.0        0.0  \n",
       "4     0.0        0.0  "
      ]
     },
     "execution_count": 12,
     "metadata": {},
     "output_type": "execute_result"
    }
   ],
   "source": [
    "df_COVID.head()"
   ]
  },
  {
   "cell_type": "code",
   "execution_count": 13,
   "metadata": {},
   "outputs": [],
   "source": [
    "df_COVID.to_csv('COVID-19.csv', index=False)"
   ]
  }
 ],
 "metadata": {
  "kernelspec": {
   "display_name": "Python 3",
   "language": "python",
   "name": "python3"
  },
  "language_info": {
   "codemirror_mode": {
    "name": "ipython",
    "version": 3
   },
   "file_extension": ".py",
   "mimetype": "text/x-python",
   "name": "python",
   "nbconvert_exporter": "python",
   "pygments_lexer": "ipython3",
   "version": "3.7.1"
  }
 },
 "nbformat": 4,
 "nbformat_minor": 2
}
