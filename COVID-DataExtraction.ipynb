{
 "cells": [
  {
   "cell_type": "code",
   "execution_count": 1,
   "metadata": {},
   "outputs": [],
   "source": [
    "import numpy as np\n",
    "import pandas as pd"
   ]
  },
  {
   "cell_type": "code",
   "execution_count": 2,
   "metadata": {},
   "outputs": [],
   "source": [
    "df_names = ['confirmed_global', 'deaths_global', 'recovered_global'] \n",
    "df_list = [pd.DataFrame() for df in df_names]\n",
    "df_dict = dict(zip(df_names, df_list))"
   ]
  },
  {
   "cell_type": "code",
   "execution_count": 3,
   "metadata": {},
   "outputs": [
    {
     "name": "stdout",
     "output_type": "stream",
     "text": [
      "  Province_State Country_Region      Lat     Long       Date  confirmed_global\n",
      "0            nan    Afghanistan  33.0000  65.0000 2020-01-22                 0\n",
      "1            nan        Albania  41.1533  20.1683 2020-01-22                 0\n",
      "2            nan        Algeria  28.0339   1.6596 2020-01-22                 0\n",
      "3            nan        Andorra  42.5063   1.5218 2020-01-22                 0\n",
      "4            nan         Angola -11.2027  17.8739 2020-01-22                 0\n",
      "confirmed_global cases dataframe created\n",
      "----------------------------------------------------------\n",
      "  Province_State Country_Region      Lat     Long       Date  deaths_global\n",
      "0            nan    Afghanistan  33.0000  65.0000 2020-01-22              0\n",
      "1            nan        Albania  41.1533  20.1683 2020-01-22              0\n",
      "2            nan        Algeria  28.0339   1.6596 2020-01-22              0\n",
      "3            nan        Andorra  42.5063   1.5218 2020-01-22              0\n",
      "4            nan         Angola -11.2027  17.8739 2020-01-22              0\n",
      "deaths_global cases dataframe created\n",
      "----------------------------------------------------------\n",
      "  Province_State Country_Region      Lat     Long       Date  recovered_global\n",
      "0            nan    Afghanistan  33.0000  65.0000 2020-01-22                 0\n",
      "1            nan        Albania  41.1533  20.1683 2020-01-22                 0\n",
      "2            nan        Algeria  28.0339   1.6596 2020-01-22                 0\n",
      "3            nan        Andorra  42.5063   1.5218 2020-01-22                 0\n",
      "4            nan         Angola -11.2027  17.8739 2020-01-22                 0\n",
      "recovered_global cases dataframe created\n",
      "----------------------------------------------------------\n"
     ]
    }
   ],
   "source": [
    "url_part = 'https://raw.githubusercontent.com/CSSEGISandData/COVID-19/master/csse_covid_19_data/csse_covid_19_time_series/time_series_covid19_'\n",
    "\n",
    "for key, value in df_dict.items():\n",
    "    value = pd.read_csv(url_part+key+'.csv', parse_dates=[0])\n",
    "    \n",
    "    value.rename(columns={'Province/State': 'Province_State', 'Country/Region': 'Country_Region'}, inplace=True)\n",
    "    \n",
    "    dim_col = value.columns[0:4]\n",
    "    date_col = value.columns[4:]\n",
    "    value = value.melt(id_vars = dim_col, value_vars = date_col, var_name = 'Date', value_name = key)\n",
    "    \n",
    "    value['Date'] = pd.to_datetime(value['Date'])\n",
    "    \n",
    "    df_dict[key] = value\n",
    "    print(value.head())\n",
    "    print (key+\" cases dataframe created\\n----------------------------------------------------------\")"
   ]
  },
  {
   "cell_type": "code",
   "execution_count": 4,
   "metadata": {
    "scrolled": true
   },
   "outputs": [],
   "source": [
    "join_on_col = ['Province_State','Country_Region','Lat','Long','Date']\n",
    "df_COVID = df_dict['confirmed_global'].merge(df_dict['deaths_global'], on=join_on_col, how='outer') \\\n",
    "                               .merge(df_dict['recovered_global'], on=join_on_col, how='outer')\n",
    "df_COVID.rename(columns = {'confirmed_global':'Confirmed', 'deaths_global':'Deaths', \n",
    "                              'recovered_global':'Recovered'}, inplace = True)"
   ]
  },
  {
   "cell_type": "code",
   "execution_count": 5,
   "metadata": {},
   "outputs": [],
   "source": [
    "df_COVID.to_csv('COVID-19.csv', index=False)"
   ]
  },
  {
   "cell_type": "code",
   "execution_count": 6,
   "metadata": {
    "scrolled": true
   },
   "outputs": [],
   "source": [
    "# to fill the NaN in 'Province_State' columns with Countries name in 'Country_Region'\n",
    "df_COVID['Province_State'] = np.where(df_COVID['Province_State'] == 'nan', \n",
    "                                      df_COVID['Country_Region'], \n",
    "                                      df_COVID['Province_State'])"
   ]
  },
  {
   "cell_type": "code",
   "execution_count": 7,
   "metadata": {
    "scrolled": true
   },
   "outputs": [],
   "source": [
    "# to fill the NaN in last three columns\n",
    "df_COVID.iloc[0:,-3:] = df_COVID.iloc[0:,-3:].fillna(0)"
   ]
  },
  {
   "cell_type": "code",
   "execution_count": 8,
   "metadata": {},
   "outputs": [
    {
     "name": "stdout",
     "output_type": "stream",
     "text": [
      "-----------------Authorized--------------------\n",
      "-----------------Sheet Opened------------------\n",
      "-----------------First Sheet Accessed----------\n",
      "-----------------Data Updated------------------\n"
     ]
    }
   ],
   "source": [
    "# import sys\n",
    "# !{sys.executable} -m pip install pygsheets\n",
    "import pygsheets\n",
    "\n",
    "#authorization using credentials\n",
    "gdrive = pygsheets.authorize(service_file='/Users/eklav/Documents/My Tableau Repository/Datasources/COVID-DataSource/covid-viz-data-update-secret.json')\n",
    "print(\"-----------------Authorized--------------------\")\n",
    "\n",
    "#open the google spreadsheet (where 'COVID-19' is the name of my sheet)\n",
    "sheet = gdrive.open('COVID-19')\n",
    "print(\"-----------------Sheet Opened------------------\")\n",
    "\n",
    "#select the first sheet \n",
    "wks = sheet[0]\n",
    "print(\"-----------------First Sheet Accessed----------\")\n",
    "\n",
    "#update the first sheet with df_COVID, starting at cell A1 \n",
    "wks.set_dataframe(df_COVID,(1,1))\n",
    "print(\"-----------------Data Updated------------------\")"
   ]
  },
  {
   "cell_type": "code",
   "execution_count": 9,
   "metadata": {},
   "outputs": [
    {
     "data": {
      "text/plain": [
       "Timestamp('2020-04-07 00:00:00')"
      ]
     },
     "execution_count": 9,
     "metadata": {},
     "output_type": "execute_result"
    }
   ],
   "source": [
    "df_COVID.Date.max()"
   ]
  }
 ],
 "metadata": {
  "kernelspec": {
   "display_name": "Python 3",
   "language": "python",
   "name": "python3"
  },
  "language_info": {
   "codemirror_mode": {
    "name": "ipython",
    "version": 3
   },
   "file_extension": ".py",
   "mimetype": "text/x-python",
   "name": "python",
   "nbconvert_exporter": "python",
   "pygments_lexer": "ipython3",
   "version": "3.7.1"
  }
 },
 "nbformat": 4,
 "nbformat_minor": 2
}
