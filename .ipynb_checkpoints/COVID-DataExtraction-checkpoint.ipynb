{
 "cells": [
  {
   "cell_type": "code",
   "execution_count": 1,
   "metadata": {},
   "outputs": [],
   "source": [
    "import numpy as np\n",
    "import pandas as pd"
   ]
  },
  {
   "cell_type": "code",
   "execution_count": 2,
   "metadata": {},
   "outputs": [],
   "source": [
    "df_names = ['Confirmed', 'Deaths', 'Recovered'] \n",
    "df_list = [pd.DataFrame() for df in df_names]\n",
    "df_dict = dict(zip(df_names, df_list))"
   ]
  },
  {
   "cell_type": "code",
   "execution_count": 3,
   "metadata": {},
   "outputs": [
    {
     "name": "stdout",
     "output_type": "stream",
     "text": [
      "  Province_State  Country_Region      Lat      Long       Date  Confirmed\n",
      "0          Anhui  Mainland China  31.8257  117.2264 2020-01-22          1\n",
      "1        Beijing  Mainland China  40.1824  116.4142 2020-01-22         14\n",
      "2      Chongqing  Mainland China  30.0572  107.8740 2020-01-22          6\n",
      "3         Fujian  Mainland China  26.0789  117.9874 2020-01-22          1\n",
      "4          Gansu  Mainland China  36.0611  103.8343 2020-01-22          0\n",
      "Confirmed cases dataframe created\n",
      "----------------------------------------------------------\n",
      "  Province_State  Country_Region      Lat      Long       Date  Deaths\n",
      "0          Anhui  Mainland China  31.8257  117.2264 2020-01-22       0\n",
      "1        Beijing  Mainland China  40.1824  116.4142 2020-01-22       0\n",
      "2      Chongqing  Mainland China  30.0572  107.8740 2020-01-22       0\n",
      "3         Fujian  Mainland China  26.0789  117.9874 2020-01-22       0\n",
      "4          Gansu  Mainland China  36.0611  103.8343 2020-01-22       0\n",
      "Deaths cases dataframe created\n",
      "----------------------------------------------------------\n",
      "  Province_State  Country_Region      Lat      Long       Date  Recovered\n",
      "0          Anhui  Mainland China  31.8257  117.2264 2020-01-22          0\n",
      "1        Beijing  Mainland China  40.1824  116.4142 2020-01-22          0\n",
      "2      Chongqing  Mainland China  30.0572  107.8740 2020-01-22          0\n",
      "3         Fujian  Mainland China  26.0789  117.9874 2020-01-22          0\n",
      "4          Gansu  Mainland China  36.0611  103.8343 2020-01-22          0\n",
      "Recovered cases dataframe created\n",
      "----------------------------------------------------------\n"
     ]
    }
   ],
   "source": [
    "url_part = 'https://raw.githubusercontent.com/CSSEGISandData/COVID-19/master/csse_covid_19_data/csse_covid_19_time_series/time_series_19-covid-'\n",
    "\n",
    "for key, value in df_dict.items():\n",
    "    value = pd.read_csv(url_part+key+'.csv', parse_dates=[0])\n",
    "    \n",
    "    value.rename(columns={'Province/State': 'Province_State', 'Country/Region': 'Country_Region'}, inplace=True)\n",
    "    \n",
    "    dim_col = value.columns[0:4]\n",
    "    date_col = value.columns[4:]\n",
    "    value = value.melt(id_vars = dim_col, value_vars = date_col, var_name = 'Date', value_name = key)\n",
    "    \n",
    "    value['Date'] = pd.to_datetime(value['Date'])\n",
    "    \n",
    "    df_dict[key] = value\n",
    "    print(value.head())\n",
    "    print (key+\" cases dataframe created\\n----------------------------------------------------------\")"
   ]
  },
  {
   "cell_type": "code",
   "execution_count": 4,
   "metadata": {
    "scrolled": true
   },
   "outputs": [],
   "source": [
    "join_on_col = ['Province_State','Country_Region','Lat','Long','Date']\n",
    "\n",
    "df_COVID = df_dict['Confirmed'].merge(df_dict['Deaths'], on=join_on_col, how='outer') \\\n",
    "                               .merge(df_dict['Recovered'], on=join_on_col, how='outer')"
   ]
  },
  {
   "cell_type": "code",
   "execution_count": 5,
   "metadata": {},
   "outputs": [
    {
     "data": {
      "text/html": [
       "<div>\n",
       "<style scoped>\n",
       "    .dataframe tbody tr th:only-of-type {\n",
       "        vertical-align: middle;\n",
       "    }\n",
       "\n",
       "    .dataframe tbody tr th {\n",
       "        vertical-align: top;\n",
       "    }\n",
       "\n",
       "    .dataframe thead th {\n",
       "        text-align: right;\n",
       "    }\n",
       "</style>\n",
       "<table border=\"1\" class=\"dataframe\">\n",
       "  <thead>\n",
       "    <tr style=\"text-align: right;\">\n",
       "      <th></th>\n",
       "      <th>Province_State</th>\n",
       "      <th>Country_Region</th>\n",
       "      <th>Lat</th>\n",
       "      <th>Long</th>\n",
       "      <th>Date</th>\n",
       "      <th>Confirmed</th>\n",
       "      <th>Deaths</th>\n",
       "      <th>Recovered</th>\n",
       "    </tr>\n",
       "  </thead>\n",
       "  <tbody>\n",
       "    <tr>\n",
       "      <th>0</th>\n",
       "      <td>Anhui</td>\n",
       "      <td>Mainland China</td>\n",
       "      <td>31.8257</td>\n",
       "      <td>117.2264</td>\n",
       "      <td>2020-01-22</td>\n",
       "      <td>1</td>\n",
       "      <td>0</td>\n",
       "      <td>0</td>\n",
       "    </tr>\n",
       "    <tr>\n",
       "      <th>1</th>\n",
       "      <td>Beijing</td>\n",
       "      <td>Mainland China</td>\n",
       "      <td>40.1824</td>\n",
       "      <td>116.4142</td>\n",
       "      <td>2020-01-22</td>\n",
       "      <td>14</td>\n",
       "      <td>0</td>\n",
       "      <td>0</td>\n",
       "    </tr>\n",
       "    <tr>\n",
       "      <th>2</th>\n",
       "      <td>Chongqing</td>\n",
       "      <td>Mainland China</td>\n",
       "      <td>30.0572</td>\n",
       "      <td>107.8740</td>\n",
       "      <td>2020-01-22</td>\n",
       "      <td>6</td>\n",
       "      <td>0</td>\n",
       "      <td>0</td>\n",
       "    </tr>\n",
       "    <tr>\n",
       "      <th>3</th>\n",
       "      <td>Fujian</td>\n",
       "      <td>Mainland China</td>\n",
       "      <td>26.0789</td>\n",
       "      <td>117.9874</td>\n",
       "      <td>2020-01-22</td>\n",
       "      <td>1</td>\n",
       "      <td>0</td>\n",
       "      <td>0</td>\n",
       "    </tr>\n",
       "    <tr>\n",
       "      <th>4</th>\n",
       "      <td>Gansu</td>\n",
       "      <td>Mainland China</td>\n",
       "      <td>36.0611</td>\n",
       "      <td>103.8343</td>\n",
       "      <td>2020-01-22</td>\n",
       "      <td>0</td>\n",
       "      <td>0</td>\n",
       "      <td>0</td>\n",
       "    </tr>\n",
       "  </tbody>\n",
       "</table>\n",
       "</div>"
      ],
      "text/plain": [
       "  Province_State  Country_Region      Lat      Long       Date  Confirmed  \\\n",
       "0          Anhui  Mainland China  31.8257  117.2264 2020-01-22          1   \n",
       "1        Beijing  Mainland China  40.1824  116.4142 2020-01-22         14   \n",
       "2      Chongqing  Mainland China  30.0572  107.8740 2020-01-22          6   \n",
       "3         Fujian  Mainland China  26.0789  117.9874 2020-01-22          1   \n",
       "4          Gansu  Mainland China  36.0611  103.8343 2020-01-22          0   \n",
       "\n",
       "   Deaths  Recovered  \n",
       "0       0          0  \n",
       "1       0          0  \n",
       "2       0          0  \n",
       "3       0          0  \n",
       "4       0          0  "
      ]
     },
     "execution_count": 5,
     "metadata": {},
     "output_type": "execute_result"
    }
   ],
   "source": [
    "df_COVID.head()"
   ]
  },
  {
   "cell_type": "code",
   "execution_count": 9,
   "metadata": {},
   "outputs": [],
   "source": [
    "df_COVID.to_csv('COVID-19.csv', index=False)"
   ]
  }
 ],
 "metadata": {
  "kernelspec": {
   "display_name": "Python 3",
   "language": "python",
   "name": "python3"
  },
  "language_info": {
   "codemirror_mode": {
    "name": "ipython",
    "version": 3
   },
   "file_extension": ".py",
   "mimetype": "text/x-python",
   "name": "python",
   "nbconvert_exporter": "python",
   "pygments_lexer": "ipython3",
   "version": "3.7.1"
  }
 },
 "nbformat": 4,
 "nbformat_minor": 2
}
