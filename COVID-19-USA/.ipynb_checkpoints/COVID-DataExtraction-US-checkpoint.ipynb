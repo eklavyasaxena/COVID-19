{
 "cells": [
  {
   "cell_type": "code",
   "execution_count": 1,
   "metadata": {},
   "outputs": [],
   "source": [
    "import numpy as np\n",
    "import pandas as pd"
   ]
  },
  {
   "cell_type": "code",
   "execution_count": 2,
   "metadata": {},
   "outputs": [],
   "source": [
    "df_names = ['confirmed_US', 'deaths_US'] \n",
    "df_list = [pd.DataFrame() for df in df_names]\n",
    "df_dict = dict(zip(df_names, df_list))"
   ]
  },
  {
   "cell_type": "code",
   "execution_count": 3,
   "metadata": {
    "scrolled": false
   },
   "outputs": [
    {
     "name": "stdout",
     "output_type": "stream",
     "text": [
      "   UID iso2 iso3  code3  FIPS Admin2            Province_State Country_Region  \\\n",
      "0   16   AS  ASM     16  60.0    NaN            American Samoa             US   \n",
      "1  316   GU  GUM    316  66.0    NaN                      Guam             US   \n",
      "2  580   MP  MNP    580  69.0    NaN  Northern Mariana Islands             US   \n",
      "3  630   PR  PRI    630  72.0    NaN               Puerto Rico             US   \n",
      "4  850   VI  VIR    850  78.0    NaN            Virgin Islands             US   \n",
      "\n",
      "       Lat     Long_                  Combined_Key       Date  confirmed_US  \n",
      "0 -14.2710 -170.1320            American Samoa, US 2020-01-22             0  \n",
      "1  13.4443  144.7937                      Guam, US 2020-01-22             0  \n",
      "2  15.0979  145.6739  Northern Mariana Islands, US 2020-01-22             0  \n",
      "3  18.2208  -66.5901               Puerto Rico, US 2020-01-22             0  \n",
      "4  18.3358  -64.8963            Virgin Islands, US 2020-01-22             0  \n",
      "----------------------------------------------------------\n",
      "confirmed_US Cases Dataframe Created\n",
      "----------------------------------------------------------\n",
      "   UID iso2 iso3  code3  FIPS Admin2            Province_State Country_Region  \\\n",
      "0   16   AS  ASM     16  60.0    NaN            American Samoa             US   \n",
      "1  316   GU  GUM    316  66.0    NaN                      Guam             US   \n",
      "2  580   MP  MNP    580  69.0    NaN  Northern Mariana Islands             US   \n",
      "3  630   PR  PRI    630  72.0    NaN               Puerto Rico             US   \n",
      "4  850   VI  VIR    850  78.0    NaN            Virgin Islands             US   \n",
      "\n",
      "       Lat     Long_                  Combined_Key  Population       Date  \\\n",
      "0 -14.2710 -170.1320            American Samoa, US       55641 2020-01-22   \n",
      "1  13.4443  144.7937                      Guam, US      164229 2020-01-22   \n",
      "2  15.0979  145.6739  Northern Mariana Islands, US       55144 2020-01-22   \n",
      "3  18.2208  -66.5901               Puerto Rico, US     2933408 2020-01-22   \n",
      "4  18.3358  -64.8963            Virgin Islands, US      107268 2020-01-22   \n",
      "\n",
      "   deaths_US  \n",
      "0          0  \n",
      "1          0  \n",
      "2          0  \n",
      "3          0  \n",
      "4          0  \n",
      "----------------------------------------------------------\n",
      "deaths_US Cases Dataframe Created\n",
      "----------------------------------------------------------\n"
     ]
    }
   ],
   "source": [
    "url_part = 'https://raw.githubusercontent.com/CSSEGISandData/COVID-19/master/csse_covid_19_data/csse_covid_19_time_series/time_series_covid19_'\n",
    "\n",
    "for key, value in df_dict.items():\n",
    "    value = pd.read_csv(url_part+key+'.csv', parse_dates=[0])\n",
    "    \n",
    "    if key == 'confirmed_US':\n",
    "        num_of_dim_col = 11\n",
    "    elif key == 'deaths_US':\n",
    "        num_of_dim_col = 12\n",
    "        \n",
    "    dim_col = value.columns[0:num_of_dim_col]\n",
    "    date_col = value.columns[num_of_dim_col:]\n",
    "    \n",
    "    value = value.melt(id_vars = dim_col, value_vars = date_col, var_name = 'Date', value_name = key)\n",
    "    \n",
    "    value['Date'] = pd.to_datetime(value['Date'])\n",
    "    \n",
    "    df_dict[key] = value\n",
    "    print(value.head())\n",
    "    print (\"----------------------------------------------------------\")\n",
    "    print (key+\" Cases Dataframe Created\\n----------------------------------------------------------\")"
   ]
  },
  {
   "cell_type": "code",
   "execution_count": 4,
   "metadata": {
    "scrolled": true
   },
   "outputs": [],
   "source": [
    "join_on_col = ['UID', 'iso2', 'iso3', 'code3', 'FIPS', 'Admin2', 'Province_State', 'Country_Region', 'Lat', 'Long_', 'Combined_Key', 'Date']\n",
    "# join_on_col = ['Province_State','Country_Region','Lat','Long_','Date']\n",
    "df_COVID = df_dict['confirmed_US'].merge(df_dict['deaths_US'], on=join_on_col, how='outer')\n",
    "df_COVID.rename(columns = {'confirmed_US':'Confirmed', 'deaths_US':'Deaths'}, inplace = True)"
   ]
  },
  {
   "cell_type": "code",
   "execution_count": 5,
   "metadata": {},
   "outputs": [
    {
     "data": {
      "text/html": [
       "<div>\n",
       "<style scoped>\n",
       "    .dataframe tbody tr th:only-of-type {\n",
       "        vertical-align: middle;\n",
       "    }\n",
       "\n",
       "    .dataframe tbody tr th {\n",
       "        vertical-align: top;\n",
       "    }\n",
       "\n",
       "    .dataframe thead th {\n",
       "        text-align: right;\n",
       "    }\n",
       "</style>\n",
       "<table border=\"1\" class=\"dataframe\">\n",
       "  <thead>\n",
       "    <tr style=\"text-align: right;\">\n",
       "      <th></th>\n",
       "      <th>UID</th>\n",
       "      <th>iso2</th>\n",
       "      <th>iso3</th>\n",
       "      <th>code3</th>\n",
       "      <th>FIPS</th>\n",
       "      <th>Admin2</th>\n",
       "      <th>Province_State</th>\n",
       "      <th>Country_Region</th>\n",
       "      <th>Lat</th>\n",
       "      <th>Long_</th>\n",
       "      <th>Combined_Key</th>\n",
       "      <th>Date</th>\n",
       "      <th>Confirmed</th>\n",
       "      <th>Population</th>\n",
       "      <th>Deaths</th>\n",
       "    </tr>\n",
       "  </thead>\n",
       "  <tbody>\n",
       "    <tr>\n",
       "      <th>0</th>\n",
       "      <td>16</td>\n",
       "      <td>AS</td>\n",
       "      <td>ASM</td>\n",
       "      <td>16</td>\n",
       "      <td>60.0</td>\n",
       "      <td>NaN</td>\n",
       "      <td>American Samoa</td>\n",
       "      <td>US</td>\n",
       "      <td>-14.2710</td>\n",
       "      <td>-170.1320</td>\n",
       "      <td>American Samoa, US</td>\n",
       "      <td>2020-01-22</td>\n",
       "      <td>0</td>\n",
       "      <td>55641</td>\n",
       "      <td>0</td>\n",
       "    </tr>\n",
       "    <tr>\n",
       "      <th>1</th>\n",
       "      <td>316</td>\n",
       "      <td>GU</td>\n",
       "      <td>GUM</td>\n",
       "      <td>316</td>\n",
       "      <td>66.0</td>\n",
       "      <td>NaN</td>\n",
       "      <td>Guam</td>\n",
       "      <td>US</td>\n",
       "      <td>13.4443</td>\n",
       "      <td>144.7937</td>\n",
       "      <td>Guam, US</td>\n",
       "      <td>2020-01-22</td>\n",
       "      <td>0</td>\n",
       "      <td>164229</td>\n",
       "      <td>0</td>\n",
       "    </tr>\n",
       "    <tr>\n",
       "      <th>2</th>\n",
       "      <td>580</td>\n",
       "      <td>MP</td>\n",
       "      <td>MNP</td>\n",
       "      <td>580</td>\n",
       "      <td>69.0</td>\n",
       "      <td>NaN</td>\n",
       "      <td>Northern Mariana Islands</td>\n",
       "      <td>US</td>\n",
       "      <td>15.0979</td>\n",
       "      <td>145.6739</td>\n",
       "      <td>Northern Mariana Islands, US</td>\n",
       "      <td>2020-01-22</td>\n",
       "      <td>0</td>\n",
       "      <td>55144</td>\n",
       "      <td>0</td>\n",
       "    </tr>\n",
       "    <tr>\n",
       "      <th>3</th>\n",
       "      <td>630</td>\n",
       "      <td>PR</td>\n",
       "      <td>PRI</td>\n",
       "      <td>630</td>\n",
       "      <td>72.0</td>\n",
       "      <td>NaN</td>\n",
       "      <td>Puerto Rico</td>\n",
       "      <td>US</td>\n",
       "      <td>18.2208</td>\n",
       "      <td>-66.5901</td>\n",
       "      <td>Puerto Rico, US</td>\n",
       "      <td>2020-01-22</td>\n",
       "      <td>0</td>\n",
       "      <td>2933408</td>\n",
       "      <td>0</td>\n",
       "    </tr>\n",
       "    <tr>\n",
       "      <th>4</th>\n",
       "      <td>850</td>\n",
       "      <td>VI</td>\n",
       "      <td>VIR</td>\n",
       "      <td>850</td>\n",
       "      <td>78.0</td>\n",
       "      <td>NaN</td>\n",
       "      <td>Virgin Islands</td>\n",
       "      <td>US</td>\n",
       "      <td>18.3358</td>\n",
       "      <td>-64.8963</td>\n",
       "      <td>Virgin Islands, US</td>\n",
       "      <td>2020-01-22</td>\n",
       "      <td>0</td>\n",
       "      <td>107268</td>\n",
       "      <td>0</td>\n",
       "    </tr>\n",
       "  </tbody>\n",
       "</table>\n",
       "</div>"
      ],
      "text/plain": [
       "   UID iso2 iso3  code3  FIPS Admin2            Province_State Country_Region  \\\n",
       "0   16   AS  ASM     16  60.0    NaN            American Samoa             US   \n",
       "1  316   GU  GUM    316  66.0    NaN                      Guam             US   \n",
       "2  580   MP  MNP    580  69.0    NaN  Northern Mariana Islands             US   \n",
       "3  630   PR  PRI    630  72.0    NaN               Puerto Rico             US   \n",
       "4  850   VI  VIR    850  78.0    NaN            Virgin Islands             US   \n",
       "\n",
       "       Lat     Long_                  Combined_Key       Date  Confirmed  \\\n",
       "0 -14.2710 -170.1320            American Samoa, US 2020-01-22          0   \n",
       "1  13.4443  144.7937                      Guam, US 2020-01-22          0   \n",
       "2  15.0979  145.6739  Northern Mariana Islands, US 2020-01-22          0   \n",
       "3  18.2208  -66.5901               Puerto Rico, US 2020-01-22          0   \n",
       "4  18.3358  -64.8963            Virgin Islands, US 2020-01-22          0   \n",
       "\n",
       "   Population  Deaths  \n",
       "0       55641       0  \n",
       "1      164229       0  \n",
       "2       55144       0  \n",
       "3     2933408       0  \n",
       "4      107268       0  "
      ]
     },
     "execution_count": 5,
     "metadata": {},
     "output_type": "execute_result"
    }
   ],
   "source": [
    "df_COVID.head()"
   ]
  },
  {
   "cell_type": "code",
   "execution_count": 6,
   "metadata": {},
   "outputs": [],
   "source": [
    "df_COVID.to_csv('COVID-19-USA.csv', index=False)"
   ]
  },
  {
   "cell_type": "code",
   "execution_count": 7,
   "metadata": {},
   "outputs": [
    {
     "name": "stdout",
     "output_type": "stream",
     "text": [
      "Last Updated Data As On:  2020-06-22 00:00:00\n"
     ]
    }
   ],
   "source": [
    "print(\"Last Updated Data As On: \", df_COVID.Date.max())"
   ]
  }
 ],
 "metadata": {
  "kernelspec": {
   "display_name": "Python 3",
   "language": "python",
   "name": "python3"
  },
  "language_info": {
   "codemirror_mode": {
    "name": "ipython",
    "version": 3
   },
   "file_extension": ".py",
   "mimetype": "text/x-python",
   "name": "python",
   "nbconvert_exporter": "python",
   "pygments_lexer": "ipython3",
   "version": "3.7.1"
  }
 },
 "nbformat": 4,
 "nbformat_minor": 2
}
